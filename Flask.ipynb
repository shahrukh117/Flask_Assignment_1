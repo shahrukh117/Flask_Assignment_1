{
 "cells": [
  {
   "cell_type": "markdown",
   "id": "c06627b2",
   "metadata": {},
   "source": [
    "### Q1. What is Flask Framework? What are the advantages of Flask Framework?"
   ]
  },
  {
   "cell_type": "markdown",
   "id": "e077842b",
   "metadata": {},
   "source": [
    "Flask is a web framework that allows developers to build lightweight web applications quickly and easily with Flask Libraries. It was developed by Armin Ronacher, leader of the International Group of Python Enthusiasts(POCCO). It is basically based on the WSGI toolkit and Jinja2 templating engine."
   ]
  },
  {
   "cell_type": "markdown",
   "id": "a2da2328",
   "metadata": {},
   "source": [
    "#### Advantage of flask framework:\n",
    "1. Flasks design is lightweight and modular. Therefore, it is easy to transform it into the web applications or\n",
    "   framework when one needs very few extensions without weighing much.\n",
    "2. Flask is ORM-agnostic: i.e. user can plug in their favorite ORM like SqlAlchemy\n",
    "3. The basic foundation of API is very nicely shaped and made coherent.\n",
    "4. Documentation of flask is very comprehensive, filled with lots of examples and are well structured. Users\n",
    "   can even try out some sample applications to really get the real feel of Flask.\n",
    "5. It is very easy to deploy Flask in production as Flask comes with 100% WSGI 1.0 compliant\n",
    "6. Flask can handle HTTP request easily with help of its functionalities\n",
    "7. It is highly flexible. Its configuration is even more flexible than that of Django, which gives its users\n",
    "   plenty of solutions for every product they need."
   ]
  },
  {
   "cell_type": "markdown",
   "id": "e574c4b8",
   "metadata": {},
   "source": [
    "### Q2. Create a simple Flask application to display ‘Hello World!!’. Attach the screenshot of the output in Jupyter Notebook."
   ]
  },
  {
   "cell_type": "markdown",
   "id": "6c399eaf",
   "metadata": {},
   "source": [
    "### To install flask"
   ]
  },
  {
   "cell_type": "code",
   "execution_count": 1,
   "id": "aff6e4c9",
   "metadata": {},
   "outputs": [
    {
     "name": "stdout",
     "output_type": "stream",
     "text": [
      "Requirement already satisfied: flask in c:\\programdata\\anaconda3\\lib\\site-packages (1.1.2)Note: you may need to restart the kernel to use updated packages.\n",
      "\n",
      "Requirement already satisfied: click>=5.1 in c:\\programdata\\anaconda3\\lib\\site-packages (from flask) (8.0.4)\n",
      "Requirement already satisfied: Werkzeug>=0.15 in c:\\programdata\\anaconda3\\lib\\site-packages (from flask) (2.0.3)\n",
      "Requirement already satisfied: Jinja2>=2.10.1 in c:\\programdata\\anaconda3\\lib\\site-packages (from flask) (2.11.3)\n",
      "Requirement already satisfied: itsdangerous>=0.24 in c:\\programdata\\anaconda3\\lib\\site-packages (from flask) (2.0.1)\n",
      "Requirement already satisfied: colorama in c:\\programdata\\anaconda3\\lib\\site-packages (from click>=5.1->flask) (0.4.5)\n",
      "Requirement already satisfied: MarkupSafe>=0.23 in c:\\programdata\\anaconda3\\lib\\site-packages (from Jinja2>=2.10.1->flask) (2.0.1)\n"
     ]
    }
   ],
   "source": [
    "pip install flask"
   ]
  },
  {
   "cell_type": "code",
   "execution_count": null,
   "id": "8b6540e6",
   "metadata": {},
   "outputs": [
    {
     "name": "stdout",
     "output_type": "stream",
     "text": [
      " * Serving Flask app \"__main__\" (lazy loading)\n",
      " * Environment: production\n",
      "\u001b[31m   WARNING: This is a development server. Do not use it in a production deployment.\u001b[0m\n",
      "\u001b[2m   Use a production WSGI server instead.\u001b[0m\n",
      " * Debug mode: off\n"
     ]
    },
    {
     "name": "stderr",
     "output_type": "stream",
     "text": [
      " * Running on http://127.0.0.1:5000/ (Press CTRL+C to quit)\n",
      "127.0.0.1 - - [24/Aug/2023 12:49:13] \"GET / HTTP/1.1\" 200 -\n"
     ]
    }
   ],
   "source": [
    "from flask import Flask\n",
    "app = Flask(__name__)\n",
    "@app.route(\"/\")\n",
    "def hello():\n",
    "    return \"Hello world!!\"\n",
    "if __name__=='__main__':\n",
    "    app.run()"
   ]
  },
  {
   "attachments": {
    "hello%20world.png": {
     "image/png": "[encoded data removed]"
    }
   },
   "cell_type": "markdown",
   "id": "08001641",
   "metadata": {},
   "source": [
    "![hello%20world.png](attachment:hello%20world.png)"
   ]
  },
  {
   "cell_type": "markdown",
   "id": "df1bc693",
   "metadata": {},
   "source": [
    "### Q3. What is App routing in Flask? Why do we use app routes?"
   ]
  },
  {
   "cell_type": "markdown",
   "id": "9cab8223",
   "metadata": {},
   "source": [
    "App Routing means mapping the URLs to a specific function that will handle the logic for that URL. Modern web frameworks use more meaningful URLs to help users remember the URLs and make navigation simpler. "
   ]
  },
  {
   "cell_type": "markdown",
   "id": "235131a2",
   "metadata": {},
   "source": [
    "##### Example:\n",
    "In our application, the URL (“/”) is associated with the root URL. So if our site’s domain was www.example.org and we want to add routing to “www.example.org/hello”, we would use “/hello”. "
   ]
  },
  {
   "cell_type": "code",
   "execution_count": null,
   "id": "586317f1",
   "metadata": {},
   "outputs": [
    {
     "name": "stdout",
     "output_type": "stream",
     "text": [
      " * Serving Flask app \"__main__\" (lazy loading)\n",
      " * Environment: production\n",
      "\u001b[31m   WARNING: This is a development server. Do not use it in a production deployment.\u001b[0m\n",
      "\u001b[2m   Use a production WSGI server instead.\u001b[0m\n",
      " * Debug mode: off\n"
     ]
    },
    {
     "name": "stderr",
     "output_type": "stream",
     "text": [
      " * Running on http://127.0.0.1:5000/ (Press CTRL+C to quit)\n",
      "127.0.0.1 - - [24/Aug/2023 14:04:44] \"GET /hello HTTP/1.1\" 200 -\n"
     ]
    }
   ],
   "source": [
    "from flask import Flask\n",
    "\n",
    "app = Flask(__name__)\n",
    "\n",
    "# Pass the required route to the decorator.\n",
    "@app.route(\"/hello\")\n",
    "def hello():\n",
    "    return \"Hello, Welcome to Pwskills page\"\n",
    "\n",
    "@app.route(\"/\")\n",
    "def index():\n",
    "    return \"Homepage of Pwskills \"\n",
    "\n",
    "if __name__ == \"__main__\":\n",
    "    app.run()\n"
   ]
  },
  {
   "cell_type": "markdown",
   "id": "2abf0684",
   "metadata": {},
   "source": [
    "Output: Open the browser and visit 127.0.0.1:5000/hello, you will see the following output."
   ]
  },
  {
   "attachments": {
    "hello%20pw.png": {
     "image/png": "[encoded data removed]"
    }
   },
   "cell_type": "markdown",
   "id": "60c1397a",
   "metadata": {},
   "source": [
    "![hello%20pw.png](attachment:hello%20pw.png)"
   ]
  },
  {
   "cell_type": "markdown",
   "id": "386663f1",
   "metadata": {},
   "source": [
    "###    Q4. Create a “/welcome” route to display the welcome message “Welcome to ABC Corporation” and a “/” route to show the following details:\n",
    "###    Company Name: ABC Corporation\n",
    "###    Location: India\n",
    "###    Contact Detail: 999-999-9999\n",
    "### Attach the screenshot of the output in Jupyter Notebook."
   ]
  },
  {
   "cell_type": "code",
   "execution_count": null,
   "id": "b5b87fc7",
   "metadata": {},
   "outputs": [
    {
     "name": "stdout",
     "output_type": "stream",
     "text": [
      " * Serving Flask app \"__main__\" (lazy loading)\n",
      " * Environment: production\n",
      "\u001b[31m   WARNING: This is a development server. Do not use it in a production deployment.\u001b[0m\n",
      "\u001b[2m   Use a production WSGI server instead.\u001b[0m\n",
      " * Debug mode: off\n"
     ]
    },
    {
     "name": "stderr",
     "output_type": "stream",
     "text": [
      " * Running on http://127.0.0.1:5000/ (Press CTRL+C to quit)\n",
      "127.0.0.1 - - [24/Aug/2023 13:09:53] \"GET / HTTP/1.1\" 200 -\n",
      "127.0.0.1 - - [24/Aug/2023 13:10:42] \"GET /welcome HTTP/1.1\" 200 -\n"
     ]
    }
   ],
   "source": [
    "from flask import Flask\n",
    "\n",
    "app = Flask(__name__)\n",
    "\n",
    "@app.route('/welcome')\n",
    "def welcome():\n",
    "    return \"<h1>Welcome to ABC Corporation</h1>\"\n",
    "\n",
    "@app.route('/')\n",
    "def company_details():\n",
    "    details = \"\"\"\n",
    "    Company Name: ABC Corporation\n",
    "    \n",
    "    Location: India\n",
    "    \n",
    "    Contact Detail: 999-999-9999\n",
    "    \"\"\"\n",
    "    return details\n",
    "\n",
    "if __name__ == '__main__':\n",
    "    app.run()\n"
   ]
  },
  {
   "attachments": {
    "welcome%20to%20abc.png": {
     "image/png": "[encoded data removed]"
    }
   },
   "cell_type": "markdown",
   "id": "19569131",
   "metadata": {},
   "source": [
    "![welcome%20to%20abc.png](attachment:welcome%20to%20abc.png)"
   ]
  },
  {
   "attachments": {
    "welcome.png": {
     "image/png": "[encoded data removed]"
    }
   },
   "cell_type": "markdown",
   "id": "a4b4bd3d",
   "metadata": {},
   "source": [
    "\n",
    "![welcome.png](attachment:welcome.png)"
   ]
  },
  {
   "cell_type": "markdown",
   "id": "a9fe8cdc",
   "metadata": {},
   "source": [
    "### Q5. What function is used in Flask for URL Building? Write a Python code to demonstrate the working of the url_for() function."
   ]
  },
  {
   "cell_type": "markdown",
   "id": "0672c433",
   "metadata": {},
   "source": [
    "### Flask URL Building\n",
    "The url_for() function is used to build a URL to the specific function dynamically. The first argument is the name of the specified function, and then we can pass any number of keyword argument corresponding to the variable part of the URL"
   ]
  },
  {
   "cell_type": "code",
   "execution_count": null,
   "id": "49d9f5a4",
   "metadata": {},
   "outputs": [
    {
     "name": "stdout",
     "output_type": "stream",
     "text": [
      " * Serving Flask app \"__main__\" (lazy loading)\n",
      " * Environment: production\n",
      "\u001b[31m   WARNING: This is a development server. Do not use it in a production deployment.\u001b[0m\n",
      "\u001b[2m   Use a production WSGI server instead.\u001b[0m\n",
      " * Debug mode: off\n"
     ]
    },
    {
     "name": "stderr",
     "output_type": "stream",
     "text": [
      " * Running on http://127.0.0.1:5000/ (Press CTRL+C to quit)\n",
      "127.0.0.1 - - [26/Aug/2023 11:03:00] \"GET / HTTP/1.1\" 200 -\n"
     ]
    }
   ],
   "source": [
    "from flask import Flask, url_for\n",
    "\n",
    "\n",
    "app = Flask(__name__)\n",
    "\n",
    "\n",
    "@app.route('/')\n",
    "def home():\n",
    "   return \"Welcome to the pwskills page!\"\n",
    "\n",
    "\n",
    "@app.route('/about')\n",
    "def about():\n",
    "   return \"This is the about page.\"\n",
    "\n",
    "\n",
    "@app.route('/profile/<username>')\n",
    "def profile(username):\n",
    "   return f\"Welcome to the profile page of {username}.\"\n",
    "\n",
    "\n",
    "if __name__ == '__main__':\n",
    "   app.run()"
   ]
  },
  {
   "cell_type": "markdown",
   "id": "2e575252",
   "metadata": {},
   "source": [
    "In the code above, we have defined three routes in our Flask application: /, /about, and /profile/<username>. The url_for() function can be used to generate URLs for these routes. For example, you can use url_for(‘home’) to generate a URL for the home route, url_for(‘about’) to generate a URL for the about route, and url_for(‘profile’, username=’john’) to generate a URL for the profile route with a dynamic username paramete"
   ]
  },
  {
   "cell_type": "markdown",
   "id": "ee71a65a",
   "metadata": {},
   "source": [
    "# The End"
   ]
  }
 ],
 "metadata": {
  "kernelspec": {
   "display_name": "Python 3 (ipykernel)",
   "language": "python",
   "name": "python3"
  },
  "language_info": {
   "codemirror_mode": {
    "name": "ipython",
    "version": 3
   },
   "file_extension": ".py",
   "mimetype": "text/x-python",
   "name": "python",
   "nbconvert_exporter": "python",
   "pygments_lexer": "ipython3",
   "version": "3.9.13"
  }
 },
 "nbformat": 4,
 "nbformat_minor": 5
}
